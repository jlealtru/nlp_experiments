{
 "cells": [
  {
   "cell_type": "markdown",
   "metadata": {},
   "source": [
    "# Exploring the Pitchfork dataset\n",
    "\n",
    "In this tutorial we are conducting a quick exploratory analysis of the pitchfork dataset available on [Kaggle](https://www.kaggle.com/nolanbconaway/pitchfork-data). [Pitchfork](https://pitchfork.com/) is an specialized music news and reviews website. The dataset is composed of reviews of many albums spanning from 2001 to 2017. We were interested in exploring the usage of [spaCy](http://spacy.io) one of the most popular NLP libraries out there for all the aspects of the NLP pipeline.\n",
    "\n"
   ]
  },
  {
   "cell_type": "code",
   "execution_count": 1,
   "metadata": {},
   "outputs": [],
   "source": [
    "# Load the necessary libraries for the analysis\n",
    "import numpy as np \n",
    "import pandas as pd \n",
    "import sqlite3 as lite\n",
    "from pandas.io.sql import read_sql"
   ]
  },
  {
   "cell_type": "markdown",
   "metadata": {},
   "source": [
    "We will be working with spaCy 2.1.4, so this means that unlike V1 of spacy the multithread feature that helped accelerate execution time is no longer available (for a discussion of this change see this [post](https://spacy.io/usage/v2). But fear not as spaCy is compatible with GPU, thus performance shouldn't be an issue. We simply need to install spaCy specifiying the version of cudas we have available in our system, download the models and get up to speed!. So in your computer all you need to do is this:"
   ]
  },
  {
   "cell_type": "code",
   "execution_count": null,
   "metadata": {},
   "outputs": [],
   "source": [
    "!pip install -U spacy[cuda100] #remember to change the version of your cuda library"
   ]
  },
  {
   "cell_type": "markdown",
   "metadata": {},
   "source": [
    "Once the installation is completed we can verify that the installation was successful by entering the following command."
   ]
  },
  {
   "cell_type": "code",
   "execution_count": 3,
   "metadata": {},
   "outputs": [
    {
     "data": {
      "text/plain": [
       "True"
      ]
     },
     "execution_count": 3,
     "metadata": {},
     "output_type": "execute_result"
    }
   ],
   "source": [
    "# We w\n",
    "import spacy\n",
    "spacy.require_gpu()"
   ]
  },
  {
   "cell_type": "markdown",
   "metadata": {},
   "source": [
    "If the installation was succesful we should see a 'True' message. In case you receive an error message pertaining 'gpu_ops' not found, you would need to downgrade Thinc from the current version (as of June 2019) 7.0.4 to 7.0.3. This issue is discussed [here](https://github.com/explosion/spaCy/issues/3437). Once we have spacy ready to go we can start by defining a connection to our data dump."
   ]
  },
  {
   "cell_type": "code",
   "execution_count": 4,
   "metadata": {},
   "outputs": [],
   "source": [
    "# we define the connection to the database\n",
    "\n",
    "con = lite.connect('pitchfork.sqlite') # in this case we changed the name of the database to make it easier to identify\n"
   ]
  },
  {
   "cell_type": "markdown",
   "metadata": {},
   "source": [
    "The database is composed of seven tables that contain information about the artist, the album reviewed, the date of publication, grade of the review, etc. Since we are interested in the reviews we will focus on the reviews and content tables. We can use pandas and sql lite to 'query' the information and store it as a nice data frame."
   ]
  },
  {
   "cell_type": "code",
   "execution_count": 5,
   "metadata": {
    "scrolled": false
   },
   "outputs": [
    {
     "data": {
      "text/html": [
       "<div>\n",
       "<style scoped>\n",
       "    .dataframe tbody tr th:only-of-type {\n",
       "        vertical-align: middle;\n",
       "    }\n",
       "\n",
       "    .dataframe tbody tr th {\n",
       "        vertical-align: top;\n",
       "    }\n",
       "\n",
       "    .dataframe thead th {\n",
       "        text-align: right;\n",
       "    }\n",
       "</style>\n",
       "<table border=\"1\" class=\"dataframe\">\n",
       "  <thead>\n",
       "    <tr style=\"text-align: right;\">\n",
       "      <th></th>\n",
       "      <th>content</th>\n",
       "      <th>reviewid</th>\n",
       "      <th>title</th>\n",
       "      <th>artist</th>\n",
       "      <th>url</th>\n",
       "      <th>score</th>\n",
       "      <th>best_new_music</th>\n",
       "      <th>author</th>\n",
       "      <th>author_type</th>\n",
       "      <th>pub_date</th>\n",
       "      <th>pub_weekday</th>\n",
       "      <th>pub_day</th>\n",
       "      <th>pub_month</th>\n",
       "      <th>pub_year</th>\n",
       "    </tr>\n",
       "  </thead>\n",
       "  <tbody>\n",
       "    <tr>\n",
       "      <th>0</th>\n",
       "      <td>“Trip-hop” eventually became a ’90s punchline,...</td>\n",
       "      <td>22703</td>\n",
       "      <td>mezzanine</td>\n",
       "      <td>massive attack</td>\n",
       "      <td>http://pitchfork.com/reviews/albums/22703-mezz...</td>\n",
       "      <td>9.3</td>\n",
       "      <td>0</td>\n",
       "      <td>nate patrin</td>\n",
       "      <td>contributor</td>\n",
       "      <td>2017-01-08</td>\n",
       "      <td>6</td>\n",
       "      <td>8</td>\n",
       "      <td>1</td>\n",
       "      <td>2017</td>\n",
       "    </tr>\n",
       "    <tr>\n",
       "      <th>1</th>\n",
       "      <td>Eight years, five albums, and two EPs in, the ...</td>\n",
       "      <td>22721</td>\n",
       "      <td>prelapsarian</td>\n",
       "      <td>krallice</td>\n",
       "      <td>http://pitchfork.com/reviews/albums/22721-prel...</td>\n",
       "      <td>7.9</td>\n",
       "      <td>0</td>\n",
       "      <td>zoe camp</td>\n",
       "      <td>contributor</td>\n",
       "      <td>2017-01-07</td>\n",
       "      <td>5</td>\n",
       "      <td>7</td>\n",
       "      <td>1</td>\n",
       "      <td>2017</td>\n",
       "    </tr>\n",
       "    <tr>\n",
       "      <th>2</th>\n",
       "      <td>Minneapolis’ Uranium Club seem to revel in bei...</td>\n",
       "      <td>22659</td>\n",
       "      <td>all of them naturals</td>\n",
       "      <td>uranium club</td>\n",
       "      <td>http://pitchfork.com/reviews/albums/22659-all-...</td>\n",
       "      <td>7.3</td>\n",
       "      <td>0</td>\n",
       "      <td>david glickman</td>\n",
       "      <td>contributor</td>\n",
       "      <td>2017-01-07</td>\n",
       "      <td>5</td>\n",
       "      <td>7</td>\n",
       "      <td>1</td>\n",
       "      <td>2017</td>\n",
       "    </tr>\n",
       "  </tbody>\n",
       "</table>\n",
       "</div>"
      ],
      "text/plain": [
       "                                             content  reviewid  \\\n",
       "0  “Trip-hop” eventually became a ’90s punchline,...     22703   \n",
       "1  Eight years, five albums, and two EPs in, the ...     22721   \n",
       "2  Minneapolis’ Uranium Club seem to revel in bei...     22659   \n",
       "\n",
       "                  title          artist  \\\n",
       "0             mezzanine  massive attack   \n",
       "1          prelapsarian        krallice   \n",
       "2  all of them naturals    uranium club   \n",
       "\n",
       "                                                 url  score  best_new_music  \\\n",
       "0  http://pitchfork.com/reviews/albums/22703-mezz...    9.3               0   \n",
       "1  http://pitchfork.com/reviews/albums/22721-prel...    7.9               0   \n",
       "2  http://pitchfork.com/reviews/albums/22659-all-...    7.3               0   \n",
       "\n",
       "           author  author_type    pub_date  pub_weekday  pub_day  pub_month  \\\n",
       "0     nate patrin  contributor  2017-01-08            6        8          1   \n",
       "1        zoe camp  contributor  2017-01-07            5        7          1   \n",
       "2  david glickman  contributor  2017-01-07            5        7          1   \n",
       "\n",
       "   pub_year  \n",
       "0      2017  \n",
       "1      2017  \n",
       "2      2017  "
      ]
     },
     "execution_count": 5,
     "metadata": {},
     "output_type": "execute_result"
    }
   ],
   "source": [
    "# query the information from the database\n",
    "df = read_sql(\"\"\" SELECT a.content , b.* FROM content a LEFT JOIN reviews b \"\"\"\n",
    "              \"\"\" ON a.reviewid=b.reviewid \"\"\",\n",
    "              con, coerce_float=True, params=None) \n",
    "\n",
    "# quickly check content\n",
    "df.head(3)"
   ]
  },
  {
   "cell_type": "markdown",
   "metadata": {},
   "source": [
    "We are interested in understanding how many observations we have and the average lenght of the reviews."
   ]
  },
  {
   "cell_type": "code",
   "execution_count": 26,
   "metadata": {},
   "outputs": [
    {
     "name": "stdout",
     "output_type": "stream",
     "text": [
      " The dataset has 18,401 observations, and the average lenght of a review is 4,057.50\n",
      " characters\n"
     ]
    }
   ],
   "source": [
    "# We are interested in understanding \n",
    "print (f' The dataset has {len(df):,} observations, and the average lenght of a review is {np.mean(df.content.apply(lambda x: len(x))):,.2f}\\n' \\\n",
    "       f' characters')\n",
    "#df[df['reviewid']==22719]"
   ]
  },
  {
   "cell_type": "markdown",
   "metadata": {},
   "source": [
    "# Using spaCy "
   ]
  },
  {
   "cell_type": "markdown",
   "metadata": {},
   "source": [
    "We are going to use the spaCy large english model. For an introduction of spaCy and the logic of their model we recommend this [tutorial](https://spacy.io/usage/spacy-101) that covers the basics of the library. The library loads a model in the nlp class, where the model is then retrieved and used for all kinds of different nlp tasks. In our case we will use the standard pipeline that includes a tagger, a parser and a name entity recognition module."
   ]
  },
  {
   "cell_type": "code",
   "execution_count": 28,
   "metadata": {},
   "outputs": [
    {
     "name": "stdout",
     "output_type": "stream",
     "text": [
      "[('tagger', <spacy.pipeline.pipes.Tagger object at 0x7fd5056330b8>), ('parser', <spacy.pipeline.pipes.DependencyParser object at 0x7fd5046763a8>), ('ner', <spacy.pipeline.pipes.EntityRecognizer object at 0x7fd504676408>)]\n"
     ]
    }
   ],
   "source": [
    "# load the large english model\n",
    "nlp = spacy.load('en_core_web_lg')\n",
    "\n",
    "# check the default components\n",
    "print(nlp.pipeline)"
   ]
  },
  {
   "cell_type": "code",
   "execution_count": 33,
   "metadata": {},
   "outputs": [
    {
     "name": "stdout",
     "output_type": "stream",
     "text": [
      " aclImdb\t\t\t 'spacy tutorial 1.ipynb'\r\n",
      " aind-dl-linux.yml\t\t  standford\r\n",
      " blog.odt\t\t\t  Student_Admissions.ipynb\r\n",
      " clustering_and_data_viz.ipynb\t  student_data.csv\r\n",
      " database.sqlite.zip\t\t  testing_doc2vec.ipynb\r\n",
      " doc2vec_gensim3_6.ipynb\t  testing_doc2vec_tutorial.ipynb\r\n",
      "'flair experiments-Copy1.ipynb'   testing_doc2vec_v2.ipynb\r\n",
      " IMDB_In_Keras.ipynb\t\t  testing_word2vec.ipynb\r\n",
      " IMDB_In_Keras_Solutions.ipynb\t  train_positive_clean.txt\r\n",
      " pitchfork.sqlite\t\t  tran_negative_clean.txt\r\n",
      " README.md\t\t\t  undefined_clean.txt\r\n",
      " requirements.txt\r\n"
     ]
    }
   ],
   "source": [
    "! ls\n"
   ]
  },
  {
   "cell_type": "markdown",
   "metadata": {},
   "source": [
    "The nlp pipeline takes a document, process it according to the specified pipeline and returns a spaCy document. We then can explore the different attributes for each docucment, such as named entities, POS, sentences, etc.\n",
    "![title](pipeline_spacy.png)\n",
    "Taken from spaCy webpage\n"
   ]
  },
  {
   "cell_type": "markdown",
   "metadata": {},
   "source": [
    "Before we process all the reviews we convert them to a list of documents."
   ]
  },
  {
   "cell_type": "code",
   "execution_count": 45,
   "metadata": {},
   "outputs": [],
   "source": [
    "list_reviews= df['content'].tolist()"
   ]
  },
  {
   "cell_type": "markdown",
   "metadata": {},
   "source": [
    "The `nlp.pipe` method uses thinc under the hood to process each document in the order of the established pipeline. As of v2 of spaCy the model is now implemented as a neural network and as a result the multithread argument no longer gets rid of the infamous GIL (see this [explanation](https://spacy.io/usage/v2-1)). So the best way to use the library is through GPU support. For example processing the pipeline using cpu only takes **2 hours and 27 minutes!**:\n",
    "![title](slow_nlp.png)\n",
    "\n"
   ]
  },
  {
   "cell_type": "markdown",
   "metadata": {},
   "source": [
    "Now if we run the same code using the GPU optimized version (we are running this on a EVGA GeForce GTX 1080 SC 8GB) it only takes 6 minutes a **24x improvement!**."
   ]
  },
  {
   "cell_type": "code",
   "execution_count": 46,
   "metadata": {},
   "outputs": [
    {
     "name": "stdout",
     "output_type": "stream",
     "text": [
      "CPU times: user 5min 23s, sys: 39.3 s, total: 6min 2s\n",
      "Wall time: 6min 3s\n"
     ]
    }
   ],
   "source": [
    "%%time\n",
    "list_reviews_processed=list(nlp.pipe(list_reviews, batch_size=256))"
   ]
  },
  {
   "cell_type": "markdown",
   "metadata": {},
   "source": [
    "Since the dataset is a compilation of reviews we can start by having a look at the distribution of adjectives in the dataset. To do this we define a function that returns a list of adjectives or any other POS tagger of interest. We do this so we can further analyze the results by merging it back with our data frame (for example if we wanted to understand the distribution of adjective per year or genre). Since we have a list of documents we need to take that into consideration when extracting information from the documents."
   ]
  },
  {
   "cell_type": "code",
   "execution_count": 37,
   "metadata": {},
   "outputs": [],
   "source": [
    "# Start by compiling a list of words by POS tagging. We define a simple function\n",
    "\n",
    "def return_pos_tags_text (documents, tag = None):\n",
    "    # define a list to return the result, the list should be of the same length as \n",
    "    adjectives_in_review = []\n",
    "\n",
    "    for document in documents:\n",
    "        \n",
    "        adjectives = []\n",
    "        for i in document:\n",
    "        # filter for \n",
    "          if i.pos_== tag and len(i.text)> 2:\n",
    "            adjectives.append(i.text)\n",
    "        \n",
    "        adjectives_in_review.append(adjectives)\n",
    "    \n",
    "    return adjectives_in_review"
   ]
  },
  {
   "cell_type": "code",
   "execution_count": 49,
   "metadata": {},
   "outputs": [
    {
     "name": "stdout",
     "output_type": "stream",
     "text": [
      "There are 18,401 list of adjectives in our new list\n"
     ]
    }
   ],
   "source": [
    "adjectives_in_review = return_pos_tags_text(list_reviews_processed, tag = \"ADJ\")\n",
    "\n",
    "print(f'There are {len(adjectives_in_review):,} list of adjectives in our new list')"
   ]
  },
  {
   "cell_type": "markdown",
   "metadata": {},
   "source": [
    "Let's plott the top 25 most common adjectives in the dataset "
   ]
  },
  {
   "cell_type": "code",
   "execution_count": 52,
   "metadata": {},
   "outputs": [
    {
     "data": {
      "text/html": [
       "<div>\n",
       "<style scoped>\n",
       "    .dataframe tbody tr th:only-of-type {\n",
       "        vertical-align: middle;\n",
       "    }\n",
       "\n",
       "    .dataframe tbody tr th {\n",
       "        vertical-align: top;\n",
       "    }\n",
       "\n",
       "    .dataframe thead th {\n",
       "        text-align: right;\n",
       "    }\n",
       "</style>\n",
       "<table border=\"1\" class=\"dataframe\">\n",
       "  <thead>\n",
       "    <tr style=\"text-align: right;\">\n",
       "      <th></th>\n",
       "      <th>adjective</th>\n",
       "      <th>count</th>\n",
       "    </tr>\n",
       "  </thead>\n",
       "  <tbody>\n",
       "    <tr>\n",
       "      <th>0</th>\n",
       "      <td>more</td>\n",
       "      <td>10081</td>\n",
       "    </tr>\n",
       "    <tr>\n",
       "      <th>1</th>\n",
       "      <td>first</td>\n",
       "      <td>9381</td>\n",
       "    </tr>\n",
       "    <tr>\n",
       "      <th>2</th>\n",
       "      <td>new</td>\n",
       "      <td>8790</td>\n",
       "    </tr>\n",
       "    <tr>\n",
       "      <th>3</th>\n",
       "      <td>other</td>\n",
       "      <td>8470</td>\n",
       "    </tr>\n",
       "    <tr>\n",
       "      <th>4</th>\n",
       "      <td>own</td>\n",
       "      <td>7814</td>\n",
       "    </tr>\n",
       "  </tbody>\n",
       "</table>\n",
       "</div>"
      ],
      "text/plain": [
       "  adjective  count\n",
       "0      more  10081\n",
       "1     first   9381\n",
       "2       new   8790\n",
       "3     other   8470\n",
       "4       own   7814"
      ]
     },
     "execution_count": 52,
     "metadata": {},
     "output_type": "execute_result"
    }
   ],
   "source": [
    "from collections import Counter \n",
    "adjectives = Counter([x for xs in adjectives_in_review for x in set(xs)]) \n",
    "adjectives_df = pd.DataFrame(adjectives.most_common(), columns=['adjective','count']) \n",
    "adjectives_df.head()"
   ]
  },
  {
   "cell_type": "code",
   "execution_count": 59,
   "metadata": {},
   "outputs": [
    {
     "data": {
      "image/png": "[encoded data removed]",
      "text/plain": [
       "<Figure size 720x720 with 1 Axes>"
      ]
     },
     "metadata": {},
     "output_type": "display_data"
    }
   ],
   "source": [
    "import seaborn as sns\n",
    "import matplotlib.pyplot as plt\n",
    "sns.set(style=\"whitegrid\")\n",
    "\n",
    "\n",
    "# Initialize the matplotlib figure\n",
    "f, ax = plt.subplots(figsize=(10, 10))\n",
    "sns.plt.xlim(0, None)\n",
    "\n",
    "ax = sns.barplot(x='count', y='adjective', data=adjectives_df.iloc[0:20], color=\"cornflowerblue\")\n",
    "ax.set_xlabel('Top 20 most common adjectives in Pitchfork reviews')\n",
    "\n",
    "sns.despine(left=True, bottom=True)"
   ]
  },
  {
   "cell_type": "markdown",
   "metadata": {},
   "source": [
    "One of the things we want to explore is the distribution of adjectives most frequently used by good music and bad music. We will see what the median score is, the minumun and plot a histogram."
   ]
  },
  {
   "cell_type": "code",
   "execution_count": 67,
   "metadata": {},
   "outputs": [
    {
     "name": "stdout",
     "output_type": "stream",
     "text": [
      "7.2 0.0\n"
     ]
    }
   ],
   "source": [
    "print(np.median(df['score']),np.min(df['score']))"
   ]
  },
  {
   "cell_type": "code",
   "execution_count": 82,
   "metadata": {},
   "outputs": [
    {
     "data": {
      "image/png": "[encoded data removed]",
      "text/plain": [
       "<Figure size 720x504 with 1 Axes>"
      ]
     },
     "metadata": {},
     "output_type": "display_data"
    }
   ],
   "source": [
    "sns.set(style=\"whitegrid\")\n",
    "# Initialize the matplotlib figure\n",
    "f, ax = plt.subplots(figsize=(10, 7))\n",
    "plt.xlim(0, 10)\n",
    "ax.set_title('Distribution of review scores', fontsize=20)\n",
    "ax = sns.distplot(df['score'], color=\"cornflowerblue\")"
   ]
  },
  {
   "cell_type": "code",
   "execution_count": 99,
   "metadata": {},
   "outputs": [
    {
     "ename": "TypeError",
     "evalue": "merge() missing 1 required positional argument: 'right'",
     "output_type": "error",
     "traceback": [
      "\u001b[0;31m---------------------------------------------------------------------------\u001b[0m",
      "\u001b[0;31mTypeError\u001b[0m                                 Traceback (most recent call last)",
      "\u001b[0;32m<ipython-input-99-416bdb6a40f4>\u001b[0m in \u001b[0;36m<module>\u001b[0;34m\u001b[0m\n\u001b[1;32m      1\u001b[0m \u001b[0;31m# explore distribution of adjeectives for words below 7 and above 7. We will create to dataframes and plot the top\u001b[0m\u001b[0;34m\u001b[0m\u001b[0;34m\u001b[0m\u001b[0;34m\u001b[0m\u001b[0m\n\u001b[1;32m      2\u001b[0m \u001b[0;31m# 20 most common adjectives for above 7 and below\u001b[0m\u001b[0;34m\u001b[0m\u001b[0;34m\u001b[0m\u001b[0;34m\u001b[0m\u001b[0m\n\u001b[0;32m----> 3\u001b[0;31m \u001b[0madjectives_in_review_below\u001b[0m\u001b[0;34m=\u001b[0m\u001b[0mdf\u001b[0m\u001b[0;34m[\u001b[0m\u001b[0;34m[\u001b[0m\u001b[0;34m'score'\u001b[0m\u001b[0;34m]\u001b[0m\u001b[0;34m]\u001b[0m\u001b[0;34m.\u001b[0m\u001b[0mmerge\u001b[0m\u001b[0;34m(\u001b[0m\u001b[0;34m)\u001b[0m\u001b[0;34m\u001b[0m\u001b[0;34m\u001b[0m\u001b[0m\n\u001b[0m\u001b[1;32m      4\u001b[0m \u001b[0madjectives_in_review_above\u001b[0m\u001b[0;34m\u001b[0m\u001b[0;34m\u001b[0m\u001b[0m\n\u001b[1;32m      5\u001b[0m \u001b[0;34m\u001b[0m\u001b[0m\n",
      "\u001b[0;31mTypeError\u001b[0m: merge() missing 1 required positional argument: 'right'"
     ]
    }
   ],
   "source": [
    "# explore distribution of adjeectives for words below 7 and above 7. We will create to dataframes and plot the top\n",
    "# 20 most common adjectives for above 7 and below\n",
    "adjectives_in_review_below=df[['score']].merge()\n",
    "adjectives_in_review_above\n",
    "    \n",
    "len(adjectives_in_review)"
   ]
  },
  {
   "cell_type": "code",
   "execution_count": 100,
   "metadata": {},
   "outputs": [],
   "source": [
    "adjectives_in_review_below=df[['score']].merge(pd.DataFrame({'adjectives':adjectives_in_review}), \n",
    "                                               left_index=True, right_index=True)\n"
   ]
  },
  {
   "cell_type": "code",
   "execution_count": 98,
   "metadata": {},
   "outputs": [
    {
     "name": "stdout",
     "output_type": "stream",
     "text": [
      "8082\n"
     ]
    }
   ],
   "source": [
    "adjectives_in_review_below = adjectives_in_review_below[adjectives_in_review_below['score']<=7.0]\n",
    "print(len(adjectives_in_review_below))"
   ]
  },
  {
   "cell_type": "code",
   "execution_count": null,
   "metadata": {},
   "outputs": [],
   "source": [
    "adjectives_in_review_below"
   ]
  },
  {
   "cell_type": "code",
   "execution_count": null,
   "metadata": {},
   "outputs": [],
   "source": [
    "The list of reviews contains sentences and a bunch of different attributes that can be quite helpful for our analysis.\n",
    "In this case we will use the POS to identify all the adjectives mentioned in a review."
   ]
  },
  {
   "cell_type": "code",
   "execution_count": null,
   "metadata": {},
   "outputs": [],
   "source": [
    "for i in list_reviews[0]:\n",
    "    print (i.text)"
   ]
  },
  {
   "cell_type": "code",
   "execution_count": null,
   "metadata": {},
   "outputs": [],
   "source": [
    "for i,sent in enumerate(list_reviews[0].sents):\n",
    "    print(sent.ents)"
   ]
  }
 ],
 "metadata": {
  "kernelspec": {
   "display_name": "Python 3",
   "language": "python",
   "name": "python3"
  },
  "language_info": {
   "codemirror_mode": {
    "name": "ipython",
    "version": 3
   },
   "file_extension": ".py",
   "mimetype": "text/x-python",
   "name": "python",
   "nbconvert_exporter": "python",
   "pygments_lexer": "ipython3",
   "version": "3.6.7"
  }
 },
 "nbformat": 4,
 "nbformat_minor": 2
}
